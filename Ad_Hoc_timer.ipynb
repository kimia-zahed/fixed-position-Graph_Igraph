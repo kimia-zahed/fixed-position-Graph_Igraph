{
 "cells": [
  {
   "cell_type": "code",
   "execution_count": 1,
   "metadata": {},
   "outputs": [],
   "source": [
    "import numpy as np\n",
    "import matplotlib.pyplot as plt\n",
    "import igraph as ig\n",
    "import time as tm"
   ]
  },
  {
   "cell_type": "code",
   "execution_count": 2,
   "metadata": {},
   "outputs": [],
   "source": [
    "a=tm.time()\n",
    "ro= np.float64(1.5) #length of feild\n",
    "n= np.int64(1000) #number of node\n",
    "l=n/ro#np.int64(n/l)\n",
    "mean_radius= np.float64(10)"
   ]
  },
  {
   "cell_type": "code",
   "execution_count": 3,
   "metadata": {},
   "outputs": [],
   "source": [
    "#l"
   ]
  },
  {
   "cell_type": "code",
   "execution_count": 4,
   "metadata": {},
   "outputs": [],
   "source": [
    "class Node :\n",
    "    \n",
    "    def Node_make(x,y,r):\n",
    "        Nodes=np.array([],dtype=np.float64)\n",
    "        for i in range(n):\n",
    "            Nodes=np.append(Nodes,((x[i],y[i]),r[i]))\n",
    "        Nodes=Nodes.reshape((n,2))\n",
    "        return Nodes\n",
    "\n",
    "    def Edges_make(x,y,r):\n",
    "        #Edges=np.array([],dtype=np.int64)\n",
    "        Edges=[]\n",
    "        counter=0\n",
    "        shart=0\n",
    "        for i in range(n):\n",
    "            counter=i+1\n",
    "            for j in range(counter,n,1):\n",
    "                c= np.sqrt((x[i]-x[j])**2 +(y[i]-y[j])**2,dtype= np.float64)\n",
    "                if r[j]<=r[i]:\n",
    "                    shart=r[j]\n",
    "                if (c<=shart):\n",
    "                    #Edges=np.append(Edges,[i,j])\n",
    "                    Edges.append((i,j))\n",
    "        return Edges"
   ]
  },
  {
   "cell_type": "code",
   "execution_count": 5,
   "metadata": {},
   "outputs": [],
   "source": [
    "t1=tm.time()\n",
    "\n",
    "mu, sigma = 0, 1 # mean and standard deviation\n",
    "R= mean_radius +np.float64(np.random.normal(mu, sigma, n))"
   ]
  },
  {
   "cell_type": "code",
   "execution_count": 6,
   "metadata": {},
   "outputs": [
    {
     "name": "stdout",
     "output_type": "stream",
     "text": [
      "Process time:  0.008708000183105469\n"
     ]
    }
   ],
   "source": [
    "x_cord= np.float64(np.random.uniform(0,l,n))\n",
    "y_cord= np.float64(np.random.uniform(0,l,n))\n",
    "\n",
    "t2=tm.time()\n",
    "print('Process time: ',t2-t1)"
   ]
  },
  {
   "cell_type": "code",
   "execution_count": 7,
   "metadata": {},
   "outputs": [],
   "source": [
    "#nodes= Node.Node_make(x_cord,y_cord,R)"
   ]
  },
  {
   "cell_type": "code",
   "execution_count": 8,
   "metadata": {},
   "outputs": [
    {
     "name": "stdout",
     "output_type": "stream",
     "text": [
      "Process time:  3.3038649559020996\n"
     ]
    }
   ],
   "source": [
    "t1=tm.time()\n",
    "\n",
    "edges=Node.Edges_make(x_cord,y_cord,R)\n",
    "\n",
    "t2=tm.time()\n",
    "print('Process time: ',t2-t1)"
   ]
  },
  {
   "cell_type": "code",
   "execution_count": 9,
   "metadata": {},
   "outputs": [
    {
     "data": {
      "text/plain": [
       "(5, 632)"
      ]
     },
     "execution_count": 9,
     "metadata": {},
     "output_type": "execute_result"
    }
   ],
   "source": [
    "edges[1]"
   ]
  },
  {
   "cell_type": "code",
   "execution_count": 10,
   "metadata": {},
   "outputs": [
    {
     "name": "stdout",
     "output_type": "stream",
     "text": [
      "Process time:  0.00128173828125\n"
     ]
    }
   ],
   "source": [
    "t1=tm.time()\n",
    "\n",
    "g=ig.Graph()\n",
    "g.add_vertices(n)\n",
    "\n",
    "t2=tm.time()\n",
    "print('Process time: ',t2-t1)"
   ]
  },
  {
   "cell_type": "code",
   "execution_count": 11,
   "metadata": {},
   "outputs": [
    {
     "name": "stdout",
     "output_type": "stream",
     "text": [
      "Process time:  0.003909111022949219\n"
     ]
    }
   ],
   "source": [
    "t1=tm.time()\n",
    "\n",
    "\n",
    "le=int(len(edges))\n",
    "for i in range(0,le,2):\n",
    "    g.add_edges([edges[i]])\n",
    "    \n",
    "t2=tm.time()\n",
    "print('Process time: ',t2-t1)"
   ]
  },
  {
   "cell_type": "code",
   "execution_count": 12,
   "metadata": {},
   "outputs": [],
   "source": [
    "# ig.plot(g)\n",
    "\n",
    "# t2=tm.time()\n",
    "# print('Process time: ',t2-t1)"
   ]
  },
  {
   "cell_type": "code",
   "execution_count": 13,
   "metadata": {},
   "outputs": [
    {
     "name": "stdout",
     "output_type": "stream",
     "text": [
      "Process time:  0.0040781497955322266\n"
     ]
    }
   ],
   "source": [
    "t1=tm.time()\n",
    "\n",
    "ggiant= g.clusters().giant()\n",
    "    \n",
    "t2=tm.time()\n",
    "print('Process time: ',t2-t1)"
   ]
  },
  {
   "cell_type": "code",
   "execution_count": 14,
   "metadata": {},
   "outputs": [],
   "source": [
    "#ig.plot(ggiant)"
   ]
  },
  {
   "cell_type": "code",
   "execution_count": 15,
   "metadata": {},
   "outputs": [
    {
     "name": "stdout",
     "output_type": "stream",
     "text": [
      "Total process time 3.4473602771759033\n"
     ]
    }
   ],
   "source": [
    "b=tm.time()\n",
    "print('Total process time',b-a)"
   ]
  },
  {
   "cell_type": "code",
   "execution_count": 16,
   "metadata": {},
   "outputs": [],
   "source": [
    "# a1=np.float64(-0.5)\n",
    "# a2=np.float64()\n",
    "# a3=np.float64()\n",
    "# a4=np.float64()"
   ]
  },
  {
   "cell_type": "code",
   "execution_count": 17,
   "metadata": {},
   "outputs": [],
   "source": [
    "# H1=0\n",
    "# for i in range (n):\n",
    "#     H1 += a1*(g.degree(i))**2\n",
    "# H1=-0.5*H1"
   ]
  },
  {
   "cell_type": "code",
   "execution_count": 18,
   "metadata": {},
   "outputs": [],
   "source": [
    "# H2=0\n",
    "# for i in range (n):\n",
    "#     H2 += a2*(g.degree(i))**3\n",
    "# H2=*H2"
   ]
  },
  {
   "cell_type": "code",
   "execution_count": 19,
   "metadata": {},
   "outputs": [],
   "source": [
    "# H3=0\n",
    "# for i in range (n):\n",
    "#     H3 += a3*(R[i])**3\n",
    "# H3=-0.5*H3"
   ]
  },
  {
   "cell_type": "code",
   "execution_count": null,
   "metadata": {},
   "outputs": [],
   "source": []
  }
 ],
 "metadata": {
  "kernelspec": {
   "display_name": "Python 3",
   "language": "python",
   "name": "python3"
  },
  "language_info": {
   "codemirror_mode": {
    "name": "ipython",
    "version": 3
   },
   "file_extension": ".py",
   "mimetype": "text/x-python",
   "name": "python",
   "nbconvert_exporter": "python",
   "pygments_lexer": "ipython3",
   "version": "3.6.9"
  }
 },
 "nbformat": 4,
 "nbformat_minor": 2
}
